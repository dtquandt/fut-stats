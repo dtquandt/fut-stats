{
 "cells": [
  {
   "cell_type": "code",
   "execution_count": 44,
   "metadata": {},
   "outputs": [],
   "source": [
    "import pandas as pd\n",
    "import numpy as np"
   ]
  },
  {
   "cell_type": "code",
   "execution_count": 31,
   "metadata": {},
   "outputs": [],
   "source": [
    "prices = pd.read_csv('../data/price_data.csv', parse_dates=True, index_col='date')"
   ]
  },
  {
   "cell_type": "code",
   "execution_count": 32,
   "metadata": {},
   "outputs": [],
   "source": [
    "ps = prices[prices['platform'] == 'ps'].copy()"
   ]
  },
  {
   "cell_type": "code",
   "execution_count": 33,
   "metadata": {},
   "outputs": [],
   "source": [
    "monthly_prices = pd.DataFrame(ps.groupby('futbin_id').resample('M').median()['price']).reset_index()"
   ]
  },
  {
   "cell_type": "code",
   "execution_count": 45,
   "metadata": {},
   "outputs": [],
   "source": [
    "monthly_prices['price'] = np.where(monthly_prices['price'] == 0, np.nan, monthly_prices['price'])"
   ]
  },
  {
   "cell_type": "code",
   "execution_count": 46,
   "metadata": {},
   "outputs": [],
   "source": [
    "pivoted = monthly_prices.pivot_table(values='price', columns='date', index='futbin_id')"
   ]
  },
  {
   "cell_type": "code",
   "execution_count": 47,
   "metadata": {},
   "outputs": [
    {
     "output_type": "execute_result",
     "data": {
      "text/plain": "date       2019-09-30  2019-10-31  2019-11-30  2019-12-31  2020-01-31  \\\nfutbin_id                                                               \n41             2700.0      1176.0      2167.0      1900.0      1664.0   \n51                NaN         NaN         NaN         NaN    326524.0   \n80              717.0       729.0       727.0       750.0       722.0   \n240               NaN         NaN         NaN         NaN    596600.0   \n241               NaN         NaN         NaN         NaN    460391.0   \n...               ...         ...         ...         ...         ...   \n268624001         NaN         NaN         NaN         NaN         NaN   \n268636103         NaN         NaN         NaN         NaN         NaN   \n268647644         NaN         NaN         NaN         NaN         NaN   \n268671246         NaN         NaN         NaN         NaN         NaN   \n268674541         NaN         NaN         NaN         NaN         NaN   \n\ndate       2020-02-29  2020-03-31  2020-04-30  2020-05-31  2020-06-30  \nfutbin_id                                                              \n41             1504.0      1177.0      1526.5      1805.0      1947.0  \n51           281154.0    228269.0    215571.5    110840.0     88579.5  \n80              754.0       718.0       775.5       787.0       744.0  \n240          529960.0    393185.0    343160.0    177520.0    121575.0  \n241          398846.0    296778.0    289289.0    171385.0    130170.5  \n...               ...         ...         ...         ...         ...  \n268624001         NaN         NaN         NaN   2471922.0   1447501.0  \n268636103         NaN         NaN         NaN     95954.0     81391.5  \n268647644         NaN         NaN         NaN     88829.0     67357.5  \n268671246         NaN         NaN         NaN     30769.0     31563.5  \n268674541         NaN         NaN         NaN    864058.5    522620.0  \n\n[16899 rows x 10 columns]",
      "text/html": "<div>\n<style scoped>\n    .dataframe tbody tr th:only-of-type {\n        vertical-align: middle;\n    }\n\n    .dataframe tbody tr th {\n        vertical-align: top;\n    }\n\n    .dataframe thead th {\n        text-align: right;\n    }\n</style>\n<table border=\"1\" class=\"dataframe\">\n  <thead>\n    <tr style=\"text-align: right;\">\n      <th>date</th>\n      <th>2019-09-30</th>\n      <th>2019-10-31</th>\n      <th>2019-11-30</th>\n      <th>2019-12-31</th>\n      <th>2020-01-31</th>\n      <th>2020-02-29</th>\n      <th>2020-03-31</th>\n      <th>2020-04-30</th>\n      <th>2020-05-31</th>\n      <th>2020-06-30</th>\n    </tr>\n    <tr>\n      <th>futbin_id</th>\n      <th></th>\n      <th></th>\n      <th></th>\n      <th></th>\n      <th></th>\n      <th></th>\n      <th></th>\n      <th></th>\n      <th></th>\n      <th></th>\n    </tr>\n  </thead>\n  <tbody>\n    <tr>\n      <th>41</th>\n      <td>2700.0</td>\n      <td>1176.0</td>\n      <td>2167.0</td>\n      <td>1900.0</td>\n      <td>1664.0</td>\n      <td>1504.0</td>\n      <td>1177.0</td>\n      <td>1526.5</td>\n      <td>1805.0</td>\n      <td>1947.0</td>\n    </tr>\n    <tr>\n      <th>51</th>\n      <td>NaN</td>\n      <td>NaN</td>\n      <td>NaN</td>\n      <td>NaN</td>\n      <td>326524.0</td>\n      <td>281154.0</td>\n      <td>228269.0</td>\n      <td>215571.5</td>\n      <td>110840.0</td>\n      <td>88579.5</td>\n    </tr>\n    <tr>\n      <th>80</th>\n      <td>717.0</td>\n      <td>729.0</td>\n      <td>727.0</td>\n      <td>750.0</td>\n      <td>722.0</td>\n      <td>754.0</td>\n      <td>718.0</td>\n      <td>775.5</td>\n      <td>787.0</td>\n      <td>744.0</td>\n    </tr>\n    <tr>\n      <th>240</th>\n      <td>NaN</td>\n      <td>NaN</td>\n      <td>NaN</td>\n      <td>NaN</td>\n      <td>596600.0</td>\n      <td>529960.0</td>\n      <td>393185.0</td>\n      <td>343160.0</td>\n      <td>177520.0</td>\n      <td>121575.0</td>\n    </tr>\n    <tr>\n      <th>241</th>\n      <td>NaN</td>\n      <td>NaN</td>\n      <td>NaN</td>\n      <td>NaN</td>\n      <td>460391.0</td>\n      <td>398846.0</td>\n      <td>296778.0</td>\n      <td>289289.0</td>\n      <td>171385.0</td>\n      <td>130170.5</td>\n    </tr>\n    <tr>\n      <th>...</th>\n      <td>...</td>\n      <td>...</td>\n      <td>...</td>\n      <td>...</td>\n      <td>...</td>\n      <td>...</td>\n      <td>...</td>\n      <td>...</td>\n      <td>...</td>\n      <td>...</td>\n    </tr>\n    <tr>\n      <th>268624001</th>\n      <td>NaN</td>\n      <td>NaN</td>\n      <td>NaN</td>\n      <td>NaN</td>\n      <td>NaN</td>\n      <td>NaN</td>\n      <td>NaN</td>\n      <td>NaN</td>\n      <td>2471922.0</td>\n      <td>1447501.0</td>\n    </tr>\n    <tr>\n      <th>268636103</th>\n      <td>NaN</td>\n      <td>NaN</td>\n      <td>NaN</td>\n      <td>NaN</td>\n      <td>NaN</td>\n      <td>NaN</td>\n      <td>NaN</td>\n      <td>NaN</td>\n      <td>95954.0</td>\n      <td>81391.5</td>\n    </tr>\n    <tr>\n      <th>268647644</th>\n      <td>NaN</td>\n      <td>NaN</td>\n      <td>NaN</td>\n      <td>NaN</td>\n      <td>NaN</td>\n      <td>NaN</td>\n      <td>NaN</td>\n      <td>NaN</td>\n      <td>88829.0</td>\n      <td>67357.5</td>\n    </tr>\n    <tr>\n      <th>268671246</th>\n      <td>NaN</td>\n      <td>NaN</td>\n      <td>NaN</td>\n      <td>NaN</td>\n      <td>NaN</td>\n      <td>NaN</td>\n      <td>NaN</td>\n      <td>NaN</td>\n      <td>30769.0</td>\n      <td>31563.5</td>\n    </tr>\n    <tr>\n      <th>268674541</th>\n      <td>NaN</td>\n      <td>NaN</td>\n      <td>NaN</td>\n      <td>NaN</td>\n      <td>NaN</td>\n      <td>NaN</td>\n      <td>NaN</td>\n      <td>NaN</td>\n      <td>864058.5</td>\n      <td>522620.0</td>\n    </tr>\n  </tbody>\n</table>\n<p>16899 rows × 10 columns</p>\n</div>"
     },
     "metadata": {},
     "execution_count": 47
    }
   ],
   "source": [
    "pivoted"
   ]
  },
  {
   "cell_type": "code",
   "execution_count": 48,
   "metadata": {},
   "outputs": [
    {
     "output_type": "execute_result",
     "data": {
      "text/plain": "date       2019-09-30  2019-10-31  2019-11-30  2019-12-31  2020-01-31  \\\nfutbin_id                                                               \n41             2700.0      1176.0      2167.0      1900.0      1664.0   \n51                NaN         NaN         NaN         NaN    326524.0   \n80              717.0       729.0       727.0       750.0       722.0   \n240               NaN         NaN         NaN         NaN    596600.0   \n241               NaN         NaN         NaN         NaN    460391.0   \n...               ...         ...         ...         ...         ...   \n268624001         NaN         NaN         NaN         NaN         NaN   \n268636103         NaN         NaN         NaN         NaN         NaN   \n268647644         NaN         NaN         NaN         NaN         NaN   \n268671246         NaN         NaN         NaN         NaN         NaN   \n268674541         NaN         NaN         NaN         NaN         NaN   \n\ndate       2020-02-29  2020-03-31  2020-04-30  2020-05-31  2020-06-30  \nfutbin_id                                                              \n41             1504.0      1177.0      1526.5      1805.0      1947.0  \n51           281154.0    228269.0    215571.5    110840.0     88579.5  \n80              754.0       718.0       775.5       787.0       744.0  \n240          529960.0    393185.0    343160.0    177520.0    121575.0  \n241          398846.0    296778.0    289289.0    171385.0    130170.5  \n...               ...         ...         ...         ...         ...  \n268624001         NaN         NaN         NaN   2471922.0   1447501.0  \n268636103         NaN         NaN         NaN     95954.0     81391.5  \n268647644         NaN         NaN         NaN     88829.0     67357.5  \n268671246         NaN         NaN         NaN     30769.0     31563.5  \n268674541         NaN         NaN         NaN    864058.5    522620.0  \n\n[16899 rows x 10 columns]",
      "text/html": "<div>\n<style scoped>\n    .dataframe tbody tr th:only-of-type {\n        vertical-align: middle;\n    }\n\n    .dataframe tbody tr th {\n        vertical-align: top;\n    }\n\n    .dataframe thead th {\n        text-align: right;\n    }\n</style>\n<table border=\"1\" class=\"dataframe\">\n  <thead>\n    <tr style=\"text-align: right;\">\n      <th>date</th>\n      <th>2019-09-30</th>\n      <th>2019-10-31</th>\n      <th>2019-11-30</th>\n      <th>2019-12-31</th>\n      <th>2020-01-31</th>\n      <th>2020-02-29</th>\n      <th>2020-03-31</th>\n      <th>2020-04-30</th>\n      <th>2020-05-31</th>\n      <th>2020-06-30</th>\n    </tr>\n    <tr>\n      <th>futbin_id</th>\n      <th></th>\n      <th></th>\n      <th></th>\n      <th></th>\n      <th></th>\n      <th></th>\n      <th></th>\n      <th></th>\n      <th></th>\n      <th></th>\n    </tr>\n  </thead>\n  <tbody>\n    <tr>\n      <th>41</th>\n      <td>2700.0</td>\n      <td>1176.0</td>\n      <td>2167.0</td>\n      <td>1900.0</td>\n      <td>1664.0</td>\n      <td>1504.0</td>\n      <td>1177.0</td>\n      <td>1526.5</td>\n      <td>1805.0</td>\n      <td>1947.0</td>\n    </tr>\n    <tr>\n      <th>51</th>\n      <td>NaN</td>\n      <td>NaN</td>\n      <td>NaN</td>\n      <td>NaN</td>\n      <td>326524.0</td>\n      <td>281154.0</td>\n      <td>228269.0</td>\n      <td>215571.5</td>\n      <td>110840.0</td>\n      <td>88579.5</td>\n    </tr>\n    <tr>\n      <th>80</th>\n      <td>717.0</td>\n      <td>729.0</td>\n      <td>727.0</td>\n      <td>750.0</td>\n      <td>722.0</td>\n      <td>754.0</td>\n      <td>718.0</td>\n      <td>775.5</td>\n      <td>787.0</td>\n      <td>744.0</td>\n    </tr>\n    <tr>\n      <th>240</th>\n      <td>NaN</td>\n      <td>NaN</td>\n      <td>NaN</td>\n      <td>NaN</td>\n      <td>596600.0</td>\n      <td>529960.0</td>\n      <td>393185.0</td>\n      <td>343160.0</td>\n      <td>177520.0</td>\n      <td>121575.0</td>\n    </tr>\n    <tr>\n      <th>241</th>\n      <td>NaN</td>\n      <td>NaN</td>\n      <td>NaN</td>\n      <td>NaN</td>\n      <td>460391.0</td>\n      <td>398846.0</td>\n      <td>296778.0</td>\n      <td>289289.0</td>\n      <td>171385.0</td>\n      <td>130170.5</td>\n    </tr>\n    <tr>\n      <th>...</th>\n      <td>...</td>\n      <td>...</td>\n      <td>...</td>\n      <td>...</td>\n      <td>...</td>\n      <td>...</td>\n      <td>...</td>\n      <td>...</td>\n      <td>...</td>\n      <td>...</td>\n    </tr>\n    <tr>\n      <th>268624001</th>\n      <td>NaN</td>\n      <td>NaN</td>\n      <td>NaN</td>\n      <td>NaN</td>\n      <td>NaN</td>\n      <td>NaN</td>\n      <td>NaN</td>\n      <td>NaN</td>\n      <td>2471922.0</td>\n      <td>1447501.0</td>\n    </tr>\n    <tr>\n      <th>268636103</th>\n      <td>NaN</td>\n      <td>NaN</td>\n      <td>NaN</td>\n      <td>NaN</td>\n      <td>NaN</td>\n      <td>NaN</td>\n      <td>NaN</td>\n      <td>NaN</td>\n      <td>95954.0</td>\n      <td>81391.5</td>\n    </tr>\n    <tr>\n      <th>268647644</th>\n      <td>NaN</td>\n      <td>NaN</td>\n      <td>NaN</td>\n      <td>NaN</td>\n      <td>NaN</td>\n      <td>NaN</td>\n      <td>NaN</td>\n      <td>NaN</td>\n      <td>88829.0</td>\n      <td>67357.5</td>\n    </tr>\n    <tr>\n      <th>268671246</th>\n      <td>NaN</td>\n      <td>NaN</td>\n      <td>NaN</td>\n      <td>NaN</td>\n      <td>NaN</td>\n      <td>NaN</td>\n      <td>NaN</td>\n      <td>NaN</td>\n      <td>30769.0</td>\n      <td>31563.5</td>\n    </tr>\n    <tr>\n      <th>268674541</th>\n      <td>NaN</td>\n      <td>NaN</td>\n      <td>NaN</td>\n      <td>NaN</td>\n      <td>NaN</td>\n      <td>NaN</td>\n      <td>NaN</td>\n      <td>NaN</td>\n      <td>864058.5</td>\n      <td>522620.0</td>\n    </tr>\n  </tbody>\n</table>\n<p>16899 rows × 10 columns</p>\n</div>"
     },
     "metadata": {},
     "execution_count": 48
    }
   ],
   "source": [
    "pivoted"
   ]
  },
  {
   "cell_type": "code",
   "execution_count": 50,
   "metadata": {},
   "outputs": [],
   "source": [
    "pivoted.to_csv('../data/monthly_prices.csv')"
   ]
  },
  {
   "cell_type": "code",
   "execution_count": null,
   "metadata": {},
   "outputs": [],
   "source": []
  }
 ],
 "metadata": {
  "language_info": {
   "codemirror_mode": {
    "name": "ipython",
    "version": 3
   },
   "file_extension": ".py",
   "mimetype": "text/x-python",
   "name": "python",
   "nbconvert_exporter": "python",
   "pygments_lexer": "ipython3",
   "version": "3.7.2-final"
  },
  "orig_nbformat": 2,
  "kernelspec": {
   "name": "python37264bit341a2a2ed452483483b6f6c7fb305079",
   "display_name": "Python 3.7.2 64-bit"
  }
 },
 "nbformat": 4,
 "nbformat_minor": 2
}